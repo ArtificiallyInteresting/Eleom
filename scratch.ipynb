{
 "cells": [
  {
   "cell_type": "code",
   "execution_count": 1,
   "metadata": {},
   "outputs": [],
   "source": [
    "from dotenv import load_dotenv\n",
    "import os\n",
    "\n",
    "load_dotenv()\n",
    "\n",
    "openai_api_key = os.getenv('OPENAI_API_KEY', 'YourAPIKey')"
   ]
  },
  {
   "cell_type": "code",
   "execution_count": 6,
   "metadata": {},
   "outputs": [
    {
     "name": "stdout",
     "output_type": "stream",
     "text": [
      "As you try to walk out of the entrance, you notice the large boulder blocking your path. It seems too heavy to move by yourself. What would you like to do next?\n"
     ]
    }
   ],
   "source": [
    "from langchain_openai import ChatOpenAI\n",
    "from langchain_core.prompts import ChatPromptTemplate\n",
    "from langchain_core.output_parsers import StrOutputParser\n",
    "\n",
    "prompt_template = \"\"\"\n",
    "You are the dungeon master of a role playing game. The player will make actions and you will tell the player what happens.\n",
    "The player starts in a dark cave with an entrance and a chest.\n",
    "\n",
    "Use the following facts (delimited by backticks) to help you generate a response:\n",
    "```{facts}```\n",
    "\n",
    "The player gave the following input (delimited by backticks) for their action:\n",
    "```{action}```\n",
    "\"\"\"\n",
    "\n",
    "prompt = ChatPromptTemplate.from_template(prompt_template)\n",
    "model = ChatOpenAI(model=\"gpt-3.5-turbo\")\n",
    "output_parser = StrOutputParser()\n",
    "\n",
    "chain = prompt | model | output_parser\n",
    "# num_tokens = model.get_num_tokens(prompt_template)\n",
    "# print (f\"Our prompt has {num_tokens} tokens\")\n",
    "\n",
    "output = chain.invoke({\"facts\": \"There is a boulder in front of the entrance\", \"action\": \"I walk out of the entrance\"})\n",
    "print (output)\n"
   ]
  },
  {
   "cell_type": "code",
   "execution_count": 5,
   "metadata": {},
   "outputs": [
    {
     "data": {
      "text/plain": [
       "'20 silver'"
      ]
     },
     "execution_count": 5,
     "metadata": {},
     "output_type": "execute_result"
    }
   ],
   "source": [
    "from operator import itemgetter\n",
    "import os\n",
    "\n",
    "from langchain_community.vectorstores import FAISS\n",
    "from langchain_core.output_parsers import StrOutputParser\n",
    "from langchain_core.prompts import ChatPromptTemplate\n",
    "from langchain_core.runnables import RunnableLambda, RunnablePassthrough\n",
    "from langchain_openai import ChatOpenAI, OpenAIEmbeddings\n",
    "\n",
    "retriever = None\n",
    "vectorstore = None\n",
    "if os.path.exists(\"vectorstore.faiss\"):\n",
    "    with open(\"vectorstore.faiss\", \"rb\") as f:\n",
    "        vectorstore = FAISS.deserialize_from_bytes(embeddings=OpenAIEmbeddings(), serialized=f.read())\n",
    "    retriever = vectorstore.as_retriever()\n",
    "else :\n",
    "    vectorstore = FAISS.from_texts(\n",
    "        [\"The chest contains 20 silver\"], embedding=OpenAIEmbeddings()\n",
    "    )\n",
    "    retriever = vectorstore.as_retriever()\n",
    "\n",
    "    vector_bytes = FAISS.serialize_to_bytes(vectorstore)\n",
    "    with open(\"vectorstore.faiss\", \"wb\") as f:\n",
    "        f.write(vector_bytes)\n",
    "\n",
    "template = \"\"\"Answer the question based only on the following context:\n",
    "{context}\n",
    "\n",
    "Question: {question}\n",
    "\"\"\"\n",
    "prompt = ChatPromptTemplate.from_template(template)\n",
    "\n",
    "model = ChatOpenAI()\n",
    "\n",
    "chain = (\n",
    "    {\"context\": retriever, \"question\": RunnablePassthrough()}\n",
    "    | prompt\n",
    "    | model\n",
    "    | StrOutputParser()\n",
    ")\n",
    "\n",
    "chain.invoke(\"what is in the chest?\")"
   ]
  }
 ],
 "metadata": {
  "kernelspec": {
   "display_name": "langchain",
   "language": "python",
   "name": "python3"
  },
  "language_info": {
   "codemirror_mode": {
    "name": "ipython",
    "version": 3
   },
   "file_extension": ".py",
   "mimetype": "text/x-python",
   "name": "python",
   "nbconvert_exporter": "python",
   "pygments_lexer": "ipython3",
   "version": "3.10.12"
  }
 },
 "nbformat": 4,
 "nbformat_minor": 2
}
